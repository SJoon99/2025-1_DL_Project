{
 "cells": [
  {
   "cell_type": "code",
   "execution_count": 2,
   "metadata": {},
   "outputs": [
    {
     "name": "stdout",
     "output_type": "stream",
     "text": [
      "프레임 0 저장 완료: video_frames/frame_0.jpg\n",
      "프레임 5 저장 완료: video_frames/frame_5.jpg\n",
      "프레임 10 저장 완료: video_frames/frame_10.jpg\n",
      "프레임 15 저장 완료: video_frames/frame_15.jpg\n",
      "프레임 20 저장 완료: video_frames/frame_20.jpg\n",
      "프레임 25 저장 완료: video_frames/frame_25.jpg\n",
      "총 6개의 프레임을 저장했습니다.\n"
     ]
    }
   ],
   "source": [
    "import imageio\n",
    "import cv2\n",
    "import os\n",
    "\n",
    "def save_frames_every_n(video_path, n=5, output_dir='saved_frames'):\n",
    "    # 저장 디렉토리 생성\n",
    "    if not os.path.exists(output_dir):\n",
    "        os.makedirs(output_dir)\n",
    "\n",
    "    reader = imageio.get_reader(video_path)\n",
    "    cnt = 0\n",
    "    saved = 0\n",
    "\n",
    "    for i, frame in enumerate(reader):\n",
    "        if i % n == 0:\n",
    "            # imageio는 RGB, cv2는 BGR을 좋아하므로 변환\n",
    "            frame_bgr = cv2.cvtColor(frame, cv2.COLOR_RGB2BGR)\n",
    "            output_path = os.path.join(output_dir, f'frame_{i}.jpg')\n",
    "            cv2.imwrite(output_path, frame_bgr)\n",
    "            print(f\"프레임 {i} 저장 완료: {output_path}\")\n",
    "            saved += 1\n",
    "\n",
    "    reader.close()\n",
    "    print(f\"총 {saved}개의 프레임을 저장했습니다.\")\n",
    "\n",
    "# 사용 예시\n",
    "save_frames_every_n(\n",
    "    '/home/joon/GIST/lecture/dl/2025-1_DL_Project/local/closed_eyes_video_20250524_153354.webm',\n",
    "    n=5,\n",
    "    output_dir='video_frames'\n",
    ")\n"
   ]
  },
  {
   "cell_type": "code",
   "execution_count": null,
   "metadata": {},
   "outputs": [],
   "source": []
  }
 ],
 "metadata": {
  "language_info": {
   "name": "python"
  }
 },
 "nbformat": 4,
 "nbformat_minor": 2
}
